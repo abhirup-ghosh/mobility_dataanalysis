{
 "cells": [
  {
   "cell_type": "code",
   "execution_count": 1,
   "metadata": {},
   "outputs": [],
   "source": [
    "\"\"\"\n",
    "copyright: abhirup.ghosh.184098@gmail.com\n",
    "\"\"\"\n",
    "\n",
    "# dependencies\n",
    "import pandas as pd\n",
    "import matplotlib.pyplot as plt\n",
    "import numpy as np\n",
    "from scipy import optimize\n",
    "from matplotlib.gridspec import GridSpec\n",
    "import geopandas as gpd\n",
    "\n",
    "import matplotlib as mpl\n",
    "import seaborn as sns\n",
    "\n",
    "import matplotlib.image as mpimg\n",
    "import imageio\n",
    "\n",
    "plt.style.use('ggplot')\n",
    "mpl.rcParams['font.family'] = 'Times New Roman'\n",
    "mpl.rcParams[\"savefig.facecolor\"] = mpl.rcParams[\"axes.facecolor\"]\n",
    "import os"
   ]
  },
  {
   "attachments": {},
   "cell_type": "markdown",
   "metadata": {},
   "source": [
    "# Loading trimmed data"
   ]
  },
  {
   "cell_type": "code",
   "execution_count": 2,
   "metadata": {},
   "outputs": [
    {
     "name": "stdout",
     "output_type": "stream",
     "text": [
      "<class 'pandas.core.frame.DataFrame'>\n",
      "RangeIndex: 1458362 entries, 0 to 1458361\n",
      "Data columns (total 7 columns):\n",
      " #   Column                      Non-Null Count    Dtype         \n",
      "---  ------                      --------------    -----         \n",
      " 0   Taxi ID                     1458320 non-null  object        \n",
      " 1   Trip Start Timestamp        1458362 non-null  datetime64[ns]\n",
      " 2   Trip End Timestamp          1458316 non-null  datetime64[ns]\n",
      " 3   Trip Miles                  1458298 non-null  float64       \n",
      " 4   Trip Total                  1458239 non-null  float64       \n",
      " 5   Pickup Centroid Location    1243339 non-null  object        \n",
      " 6   Dropoff Centroid  Location  1189340 non-null  object        \n",
      "dtypes: datetime64[ns](2), float64(2), object(3)\n",
      "memory usage: 77.9+ MB\n"
     ]
    },
    {
     "data": {
      "text/html": [
       "<div>\n",
       "<style scoped>\n",
       "    .dataframe tbody tr th:only-of-type {\n",
       "        vertical-align: middle;\n",
       "    }\n",
       "\n",
       "    .dataframe tbody tr th {\n",
       "        vertical-align: top;\n",
       "    }\n",
       "\n",
       "    .dataframe thead th {\n",
       "        text-align: right;\n",
       "    }\n",
       "</style>\n",
       "<table border=\"1\" class=\"dataframe\">\n",
       "  <thead>\n",
       "    <tr style=\"text-align: right;\">\n",
       "      <th></th>\n",
       "      <th>Taxi ID</th>\n",
       "      <th>Trip Start Timestamp</th>\n",
       "      <th>Trip End Timestamp</th>\n",
       "      <th>Trip Miles</th>\n",
       "      <th>Trip Total</th>\n",
       "      <th>Pickup Centroid Location</th>\n",
       "      <th>Dropoff Centroid  Location</th>\n",
       "    </tr>\n",
       "  </thead>\n",
       "  <tbody>\n",
       "    <tr>\n",
       "      <th>0</th>\n",
       "      <td>52a94e237e6ca1f7e21267d6b906e3abaec95d6f057632...</td>\n",
       "      <td>2019-04-01</td>\n",
       "      <td>2019-04-01 00:15:00</td>\n",
       "      <td>11.9</td>\n",
       "      <td>40.75</td>\n",
       "      <td>NaN</td>\n",
       "      <td>POINT (-87.6327464887 41.8809944707)</td>\n",
       "    </tr>\n",
       "    <tr>\n",
       "      <th>1</th>\n",
       "      <td>aa92002198c37cf17517fa6bc2d6031b35a2fd6bca4779...</td>\n",
       "      <td>2019-04-01</td>\n",
       "      <td>2019-04-01 00:15:00</td>\n",
       "      <td>8.0</td>\n",
       "      <td>25.78</td>\n",
       "      <td>NaN</td>\n",
       "      <td>NaN</td>\n",
       "    </tr>\n",
       "    <tr>\n",
       "      <th>2</th>\n",
       "      <td>7cbc46239a8278687e8c6117a85d1561b642d2a6aa2a67...</td>\n",
       "      <td>2019-04-01</td>\n",
       "      <td>2019-04-01 00:15:00</td>\n",
       "      <td>5.9</td>\n",
       "      <td>16.25</td>\n",
       "      <td>NaN</td>\n",
       "      <td>NaN</td>\n",
       "    </tr>\n",
       "    <tr>\n",
       "      <th>3</th>\n",
       "      <td>a8ce20d753f7419b47faeeca1365ddb4a9f55c7a21626c...</td>\n",
       "      <td>2019-04-01</td>\n",
       "      <td>2019-04-01 00:15:00</td>\n",
       "      <td>3.2</td>\n",
       "      <td>17.40</td>\n",
       "      <td>NaN</td>\n",
       "      <td>POINT (-87.8773053996 41.9827750091)</td>\n",
       "    </tr>\n",
       "    <tr>\n",
       "      <th>4</th>\n",
       "      <td>82341078cd3736366413a939ab5ad4b58ce845308b8edd...</td>\n",
       "      <td>2019-04-01</td>\n",
       "      <td>2019-04-01 00:00:00</td>\n",
       "      <td>0.0</td>\n",
       "      <td>51.00</td>\n",
       "      <td>NaN</td>\n",
       "      <td>NaN</td>\n",
       "    </tr>\n",
       "  </tbody>\n",
       "</table>\n",
       "</div>"
      ],
      "text/plain": [
       "                                             Taxi ID Trip Start Timestamp  \\\n",
       "0  52a94e237e6ca1f7e21267d6b906e3abaec95d6f057632...           2019-04-01   \n",
       "1  aa92002198c37cf17517fa6bc2d6031b35a2fd6bca4779...           2019-04-01   \n",
       "2  7cbc46239a8278687e8c6117a85d1561b642d2a6aa2a67...           2019-04-01   \n",
       "3  a8ce20d753f7419b47faeeca1365ddb4a9f55c7a21626c...           2019-04-01   \n",
       "4  82341078cd3736366413a939ab5ad4b58ce845308b8edd...           2019-04-01   \n",
       "\n",
       "   Trip End Timestamp  Trip Miles  Trip Total Pickup Centroid Location  \\\n",
       "0 2019-04-01 00:15:00        11.9       40.75                      NaN   \n",
       "1 2019-04-01 00:15:00         8.0       25.78                      NaN   \n",
       "2 2019-04-01 00:15:00         5.9       16.25                      NaN   \n",
       "3 2019-04-01 00:15:00         3.2       17.40                      NaN   \n",
       "4 2019-04-01 00:00:00         0.0       51.00                      NaN   \n",
       "\n",
       "             Dropoff Centroid  Location  \n",
       "0  POINT (-87.6327464887 41.8809944707)  \n",
       "1                                   NaN  \n",
       "2                                   NaN  \n",
       "3  POINT (-87.8773053996 41.9827750091)  \n",
       "4                                   NaN  "
      ]
     },
     "execution_count": 2,
     "metadata": {},
     "output_type": "execute_result"
    }
   ],
   "source": [
    "df = pd.read_csv('../data/taxi_trips_201905_trimmed.csv', parse_dates=['Trip Start Timestamp', 'Trip End Timestamp'])\n",
    "df.info()\n",
    "df.head()"
   ]
  },
  {
   "cell_type": "code",
   "execution_count": null,
   "metadata": {},
   "outputs": [],
   "source": []
  }
 ],
 "metadata": {
  "kernelspec": {
   "display_name": "MM22",
   "language": "python",
   "name": "python3"
  },
  "language_info": {
   "codemirror_mode": {
    "name": "ipython",
    "version": 3
   },
   "file_extension": ".py",
   "mimetype": "text/x-python",
   "name": "python",
   "nbconvert_exporter": "python",
   "pygments_lexer": "ipython3",
   "version": "3.10.5"
  },
  "orig_nbformat": 4,
  "vscode": {
   "interpreter": {
    "hash": "facce6baae5d86b64b0cbb5047c38ef59f3b278395587b0bd56af290cd4b7918"
   }
  }
 },
 "nbformat": 4,
 "nbformat_minor": 2
}
