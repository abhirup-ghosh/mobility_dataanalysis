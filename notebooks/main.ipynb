{
 "cells": [
  {
   "cell_type": "code",
   "execution_count": 232,
   "metadata": {},
   "outputs": [],
   "source": [
    "\"\"\"\n",
    "copyright: abhirup.ghosh.184098@gmail.com\n",
    "\"\"\"\n",
    "\n",
    "# dependencies\n",
    "import pandas as pd\n",
    "import matplotlib.pyplot as plt\n",
    "import numpy as np\n",
    "from scipy import optimize\n",
    "from matplotlib.gridspec import GridSpec\n",
    "import geopandas as gpd\n",
    "\n",
    "import matplotlib as mpl\n",
    "import seaborn as sns\n",
    "\n",
    "import matplotlib.image as mpimg\n",
    "import imageio\n",
    "\n",
    "plt.style.use('ggplot')\n",
    "mpl.rcParams['font.family'] = 'Times New Roman'\n",
    "mpl.rcParams[\"savefig.facecolor\"] = mpl.rcParams[\"axes.facecolor\"]\n",
    "import os"
   ]
  },
  {
   "attachments": {},
   "cell_type": "markdown",
   "metadata": {},
   "source": [
    "# Loading Data"
   ]
  },
  {
   "attachments": {},
   "cell_type": "markdown",
   "metadata": {},
   "source": [
    "## Reservations (trimmed)"
   ]
  },
  {
   "cell_type": "code",
   "execution_count": 233,
   "metadata": {},
   "outputs": [
    {
     "name": "stdout",
     "output_type": "stream",
     "text": [
      "<class 'pandas.core.frame.DataFrame'>\n",
      "RangeIndex: 1532337 entries, 0 to 1532336\n",
      "Data columns (total 7 columns):\n",
      " #   Column                      Non-Null Count    Dtype         \n",
      "---  ------                      --------------    -----         \n",
      " 0   Taxi ID                     1532311 non-null  object        \n",
      " 1   Trip Start Timestamp        1532337 non-null  datetime64[ns]\n",
      " 2   Trip End Timestamp          1532249 non-null  datetime64[ns]\n",
      " 3   Trip Miles                  1532287 non-null  float64       \n",
      " 4   Trip Total                  1532192 non-null  float64       \n",
      " 5   Pickup Centroid Location    1423976 non-null  object        \n",
      " 6   Dropoff Centroid  Location  1393999 non-null  object        \n",
      "dtypes: datetime64[ns](2), float64(2), object(3)\n",
      "memory usage: 81.8+ MB\n"
     ]
    },
    {
     "data": {
      "text/html": [
       "<div>\n",
       "<style scoped>\n",
       "    .dataframe tbody tr th:only-of-type {\n",
       "        vertical-align: middle;\n",
       "    }\n",
       "\n",
       "    .dataframe tbody tr th {\n",
       "        vertical-align: top;\n",
       "    }\n",
       "\n",
       "    .dataframe thead th {\n",
       "        text-align: right;\n",
       "    }\n",
       "</style>\n",
       "<table border=\"1\" class=\"dataframe\">\n",
       "  <thead>\n",
       "    <tr style=\"text-align: right;\">\n",
       "      <th></th>\n",
       "      <th>Taxi ID</th>\n",
       "      <th>Trip Start Timestamp</th>\n",
       "      <th>Trip End Timestamp</th>\n",
       "      <th>Trip Miles</th>\n",
       "      <th>Trip Total</th>\n",
       "      <th>Pickup Centroid Location</th>\n",
       "      <th>Dropoff Centroid  Location</th>\n",
       "    </tr>\n",
       "  </thead>\n",
       "  <tbody>\n",
       "    <tr>\n",
       "      <th>0</th>\n",
       "      <td>7499f31aeb2596448038b2c295983f4d67aa22ac46a668...</td>\n",
       "      <td>2019-05-01</td>\n",
       "      <td>2019-05-01 00:00:00</td>\n",
       "      <td>0.0</td>\n",
       "      <td>50.00</td>\n",
       "      <td>NaN</td>\n",
       "      <td>NaN</td>\n",
       "    </tr>\n",
       "    <tr>\n",
       "      <th>1</th>\n",
       "      <td>8bdfcf458813980ab6b1ba8a933ed7a3702178368ade6b...</td>\n",
       "      <td>2019-05-01</td>\n",
       "      <td>2019-05-01 00:00:00</td>\n",
       "      <td>0.0</td>\n",
       "      <td>7.75</td>\n",
       "      <td>NaN</td>\n",
       "      <td>NaN</td>\n",
       "    </tr>\n",
       "    <tr>\n",
       "      <th>2</th>\n",
       "      <td>c2e7642922627884ea6e26885d164bc342c94110efc234...</td>\n",
       "      <td>2019-05-01</td>\n",
       "      <td>2019-05-01 00:30:00</td>\n",
       "      <td>12.7</td>\n",
       "      <td>41.25</td>\n",
       "      <td>NaN</td>\n",
       "      <td>POINT (-87.6558787862 41.96581197)</td>\n",
       "    </tr>\n",
       "    <tr>\n",
       "      <th>3</th>\n",
       "      <td>8e9243d940d949ed3588e8ee5254eef4ba11ae19b30d99...</td>\n",
       "      <td>2019-05-01</td>\n",
       "      <td>2019-05-01 00:00:00</td>\n",
       "      <td>0.0</td>\n",
       "      <td>4.75</td>\n",
       "      <td>NaN</td>\n",
       "      <td>NaN</td>\n",
       "    </tr>\n",
       "    <tr>\n",
       "      <th>4</th>\n",
       "      <td>9458348b38e6b327b2d8fc070b05551916fd95da48ea13...</td>\n",
       "      <td>2019-05-01</td>\n",
       "      <td>2019-05-01 00:15:00</td>\n",
       "      <td>11.6</td>\n",
       "      <td>41.70</td>\n",
       "      <td>POINT (-87.7696154528 41.7925923603)</td>\n",
       "      <td>POINT (-87.6251921424 41.8788655841)</td>\n",
       "    </tr>\n",
       "  </tbody>\n",
       "</table>\n",
       "</div>"
      ],
      "text/plain": [
       "                                             Taxi ID Trip Start Timestamp  \\\n",
       "0  7499f31aeb2596448038b2c295983f4d67aa22ac46a668...           2019-05-01   \n",
       "1  8bdfcf458813980ab6b1ba8a933ed7a3702178368ade6b...           2019-05-01   \n",
       "2  c2e7642922627884ea6e26885d164bc342c94110efc234...           2019-05-01   \n",
       "3  8e9243d940d949ed3588e8ee5254eef4ba11ae19b30d99...           2019-05-01   \n",
       "4  9458348b38e6b327b2d8fc070b05551916fd95da48ea13...           2019-05-01   \n",
       "\n",
       "   Trip End Timestamp  Trip Miles  Trip Total  \\\n",
       "0 2019-05-01 00:00:00         0.0       50.00   \n",
       "1 2019-05-01 00:00:00         0.0        7.75   \n",
       "2 2019-05-01 00:30:00        12.7       41.25   \n",
       "3 2019-05-01 00:00:00         0.0        4.75   \n",
       "4 2019-05-01 00:15:00        11.6       41.70   \n",
       "\n",
       "               Pickup Centroid Location            Dropoff Centroid  Location  \n",
       "0                                   NaN                                   NaN  \n",
       "1                                   NaN                                   NaN  \n",
       "2                                   NaN    POINT (-87.6558787862 41.96581197)  \n",
       "3                                   NaN                                   NaN  \n",
       "4  POINT (-87.7696154528 41.7925923603)  POINT (-87.6251921424 41.8788655841)  "
      ]
     },
     "execution_count": 233,
     "metadata": {},
     "output_type": "execute_result"
    }
   ],
   "source": [
    "df = pd.read_csv('../data/taxi_trips_201905_trimmed.csv', parse_dates=['Trip Start Timestamp', 'Trip End Timestamp'])\n",
    "df.info()\n",
    "df.head()"
   ]
  },
  {
   "attachments": {},
   "cell_type": "markdown",
   "metadata": {},
   "source": [
    "## Chicago: Map"
   ]
  },
  {
   "cell_type": "code",
   "execution_count": 234,
   "metadata": {},
   "outputs": [
    {
     "name": "stdout",
     "output_type": "stream",
     "text": [
      "<class 'geopandas.geodataframe.GeoDataFrame'>\n",
      "RangeIndex: 98 entries, 0 to 97\n",
      "Data columns (total 5 columns):\n",
      " #   Column      Non-Null Count  Dtype              \n",
      "---  ------      --------------  -----              \n",
      " 0   name        98 non-null     object             \n",
      " 1   cartodb_id  98 non-null     int64              \n",
      " 2   created_at  98 non-null     datetime64[ns, UTC]\n",
      " 3   updated_at  98 non-null     datetime64[ns, UTC]\n",
      " 4   geometry    98 non-null     geometry           \n",
      "dtypes: datetime64[ns, UTC](2), geometry(1), int64(1), object(1)\n",
      "memory usage: 4.0+ KB\n"
     ]
    },
    {
     "data": {
      "text/html": [
       "<div>\n",
       "<style scoped>\n",
       "    .dataframe tbody tr th:only-of-type {\n",
       "        vertical-align: middle;\n",
       "    }\n",
       "\n",
       "    .dataframe tbody tr th {\n",
       "        vertical-align: top;\n",
       "    }\n",
       "\n",
       "    .dataframe thead th {\n",
       "        text-align: right;\n",
       "    }\n",
       "</style>\n",
       "<table border=\"1\" class=\"dataframe\">\n",
       "  <thead>\n",
       "    <tr style=\"text-align: right;\">\n",
       "      <th></th>\n",
       "      <th>name</th>\n",
       "      <th>cartodb_id</th>\n",
       "      <th>created_at</th>\n",
       "      <th>updated_at</th>\n",
       "      <th>geometry</th>\n",
       "    </tr>\n",
       "  </thead>\n",
       "  <tbody>\n",
       "    <tr>\n",
       "      <th>0</th>\n",
       "      <td>Grand Boulevard</td>\n",
       "      <td>1</td>\n",
       "      <td>2013-02-02 23:59:44.022000+00:00</td>\n",
       "      <td>2013-02-02 23:59:44.295000+00:00</td>\n",
       "      <td>MULTIPOLYGON (((-87.60671 41.81681, -87.60671 ...</td>\n",
       "    </tr>\n",
       "    <tr>\n",
       "      <th>1</th>\n",
       "      <td>Printers Row</td>\n",
       "      <td>2</td>\n",
       "      <td>2013-02-02 23:59:44.022000+00:00</td>\n",
       "      <td>2013-02-02 23:59:44.295000+00:00</td>\n",
       "      <td>MULTIPOLYGON (((-87.62761 41.87437, -87.62759 ...</td>\n",
       "    </tr>\n",
       "    <tr>\n",
       "      <th>2</th>\n",
       "      <td>United Center</td>\n",
       "      <td>3</td>\n",
       "      <td>2013-02-02 23:59:44.022000+00:00</td>\n",
       "      <td>2013-02-02 23:59:44.295000+00:00</td>\n",
       "      <td>MULTIPOLYGON (((-87.66707 41.88885, -87.66707 ...</td>\n",
       "    </tr>\n",
       "    <tr>\n",
       "      <th>3</th>\n",
       "      <td>Sheffield &amp; DePaul</td>\n",
       "      <td>4</td>\n",
       "      <td>2013-02-02 23:59:44.022000+00:00</td>\n",
       "      <td>2013-02-02 23:59:44.295000+00:00</td>\n",
       "      <td>MULTIPOLYGON (((-87.65833 41.92166, -87.65835 ...</td>\n",
       "    </tr>\n",
       "    <tr>\n",
       "      <th>4</th>\n",
       "      <td>Humboldt Park</td>\n",
       "      <td>5</td>\n",
       "      <td>2013-02-02 23:59:44.022000+00:00</td>\n",
       "      <td>2013-02-02 23:59:44.295000+00:00</td>\n",
       "      <td>MULTIPOLYGON (((-87.74060 41.88782, -87.74060 ...</td>\n",
       "    </tr>\n",
       "  </tbody>\n",
       "</table>\n",
       "</div>"
      ],
      "text/plain": [
       "                 name  cartodb_id                       created_at  \\\n",
       "0     Grand Boulevard           1 2013-02-02 23:59:44.022000+00:00   \n",
       "1        Printers Row           2 2013-02-02 23:59:44.022000+00:00   \n",
       "2       United Center           3 2013-02-02 23:59:44.022000+00:00   \n",
       "3  Sheffield & DePaul           4 2013-02-02 23:59:44.022000+00:00   \n",
       "4       Humboldt Park           5 2013-02-02 23:59:44.022000+00:00   \n",
       "\n",
       "                        updated_at  \\\n",
       "0 2013-02-02 23:59:44.295000+00:00   \n",
       "1 2013-02-02 23:59:44.295000+00:00   \n",
       "2 2013-02-02 23:59:44.295000+00:00   \n",
       "3 2013-02-02 23:59:44.295000+00:00   \n",
       "4 2013-02-02 23:59:44.295000+00:00   \n",
       "\n",
       "                                            geometry  \n",
       "0  MULTIPOLYGON (((-87.60671 41.81681, -87.60671 ...  \n",
       "1  MULTIPOLYGON (((-87.62761 41.87437, -87.62759 ...  \n",
       "2  MULTIPOLYGON (((-87.66707 41.88885, -87.66707 ...  \n",
       "3  MULTIPOLYGON (((-87.65833 41.92166, -87.65835 ...  \n",
       "4  MULTIPOLYGON (((-87.74060 41.88782, -87.74060 ...  "
      ]
     },
     "execution_count": 234,
     "metadata": {},
     "output_type": "execute_result"
    }
   ],
   "source": [
    "chi = gpd.read_file('../data/chicago.geojson')\n",
    "chi.info()\n",
    "chi.head()"
   ]
  },
  {
   "cell_type": "code",
   "execution_count": 235,
   "metadata": {},
   "outputs": [
    {
     "data": {
      "text/plain": [
       "(-87.96091285, -87.50333814999999, 41.6256182, 42.0419638)"
      ]
     },
     "execution_count": 235,
     "metadata": {},
     "output_type": "execute_result"
    },
    {
     "data": {
      "image/png": "[encoded data removed]",
      "text/plain": [
       "<Figure size 576x576 with 1 Axes>"
      ]
     },
     "metadata": {},
     "output_type": "display_data"
    }
   ],
   "source": [
    "style_kwds = {'edgecolor':'white', \n",
    "                'facecolor':'k',\n",
    "                'linewidth': 1, \n",
    "                'markersize': 1, \n",
    "                'alpha': 1}\n",
    "\n",
    "fig, ax = plt.subplots(figsize=(8,8))\n",
    "chi.plot(ax=ax,\n",
    "        cmap='tab20c',\n",
    "        **style_kwds)\n",
    "ax.axis('off')"
   ]
  },
  {
   "cell_type": "code",
   "execution_count": 236,
   "metadata": {},
   "outputs": [
    {
     "data": {
      "text/plain": [
       "<Geographic 2D CRS: EPSG:4326>\n",
       "Name: WGS 84\n",
       "Axis Info [ellipsoidal]:\n",
       "- Lat[north]: Geodetic latitude (degree)\n",
       "- Lon[east]: Geodetic longitude (degree)\n",
       "Area of Use:\n",
       "- name: World.\n",
       "- bounds: (-180.0, -90.0, 180.0, 90.0)\n",
       "Datum: World Geodetic System 1984 ensemble\n",
       "- Ellipsoid: WGS 84\n",
       "- Prime Meridian: Greenwich"
      ]
     },
     "execution_count": 236,
     "metadata": {},
     "output_type": "execute_result"
    }
   ],
   "source": [
    "chi.crs"
   ]
  },
  {
   "attachments": {},
   "cell_type": "markdown",
   "metadata": {},
   "source": [
    "# Data Cleaning"
   ]
  },
  {
   "attachments": {},
   "cell_type": "markdown",
   "metadata": {},
   "source": [
    "## Dropping columns\n",
    "\n",
    "The Chicago geojson dataset consists of the columns [`created_at`, `updated_at`] which we don't need. We will drop them to save space."
   ]
  },
  {
   "cell_type": "code",
   "execution_count": 237,
   "metadata": {},
   "outputs": [],
   "source": [
    "chi.drop(['created_at', 'updated_at'], axis=1, inplace=True)"
   ]
  },
  {
   "attachments": {},
   "cell_type": "markdown",
   "metadata": {},
   "source": [
    "## Renaming columns\n",
    "\n",
    "I am not the greatest fan of \"strings with space\" column names, because it's difficult to prompt in a df.column_name format. I will instead convert them into one lowercase string where substrings are separated using underscores."
   ]
  },
  {
   "cell_type": "code",
   "execution_count": 238,
   "metadata": {},
   "outputs": [
    {
     "data": {
      "text/plain": [
       "Index(['taxi_id', 'trip_start_timestamp', 'trip_end_timestamp', 'trip_miles',\n",
       "       'trip_total', 'pickup_centroid_location', 'dropoff_centroid__location'],\n",
       "      dtype='object')"
      ]
     },
     "execution_count": 238,
     "metadata": {},
     "output_type": "execute_result"
    }
   ],
   "source": [
    "df = df.rename(columns={col: col.lower().replace(' ', '_') for col in df.columns})\n",
    "df.columns"
   ]
  },
  {
   "attachments": {},
   "cell_type": "markdown",
   "metadata": {},
   "source": [
    "## Taxi ID\n",
    "\n",
    "The Taxi IDs are these long strings. According to the [data description](https://data.cityofchicago.org/Transportation/Taxi-Trips-2019/h4cq-z3dy):\n",
    "> to protect privacy but allow for aggregate analyses, the Taxi ID is consistent for any given taxi medallion number but does not show the number\n",
    "\n",
    "Since we are only going to be using this data for data analysis/visualisations, and not any complex modelling where patterns within these long strings might become relevant, we are just going to simplify our lives by replacing them with integers. We use the `OrdinalEncoder` function from `sklearn.preprocessing` to do this.  "
   ]
  },
  {
   "cell_type": "code",
   "execution_count": 239,
   "metadata": {},
   "outputs": [
    {
     "name": "stdout",
     "output_type": "stream",
     "text": [
      "Number of unique taxi_id numbers:  4570\n"
     ]
    }
   ],
   "source": [
    "print(\"Number of unique taxi_id numbers: \", df.taxi_id.nunique())"
   ]
  },
  {
   "cell_type": "code",
   "execution_count": 240,
   "metadata": {},
   "outputs": [
    {
     "name": "stdout",
     "output_type": "stream",
     "text": [
      "Number of unique taxi_id numbers:  4570\n",
      "The Unique taxi_id numbers:  [2040. 2419. 3452. ... 4148. 1586. 1835.]\n"
     ]
    }
   ],
   "source": [
    "from sklearn.preprocessing import OrdinalEncoder\n",
    "\n",
    "\n",
    "# Apply ordinal encoder to each column with categorical data\n",
    "ordinal_encoder = OrdinalEncoder()\n",
    "df['taxi_id'] = ordinal_encoder.fit_transform(df[['taxi_id']])\n",
    "print(\"Number of unique taxi_id numbers: \", df.taxi_id.nunique())\n",
    "print(\"The Unique taxi_id numbers: \", df.taxi_id.unique())"
   ]
  },
  {
   "cell_type": "code",
   "execution_count": 241,
   "metadata": {},
   "outputs": [
    {
     "data": {
      "text/html": [
       "<div>\n",
       "<style scoped>\n",
       "    .dataframe tbody tr th:only-of-type {\n",
       "        vertical-align: middle;\n",
       "    }\n",
       "\n",
       "    .dataframe tbody tr th {\n",
       "        vertical-align: top;\n",
       "    }\n",
       "\n",
       "    .dataframe thead th {\n",
       "        text-align: right;\n",
       "    }\n",
       "</style>\n",
       "<table border=\"1\" class=\"dataframe\">\n",
       "  <thead>\n",
       "    <tr style=\"text-align: right;\">\n",
       "      <th></th>\n",
       "      <th>taxi_id</th>\n",
       "      <th>trip_start_timestamp</th>\n",
       "      <th>trip_end_timestamp</th>\n",
       "      <th>trip_miles</th>\n",
       "      <th>trip_total</th>\n",
       "      <th>pickup_centroid_location</th>\n",
       "      <th>dropoff_centroid__location</th>\n",
       "    </tr>\n",
       "  </thead>\n",
       "  <tbody>\n",
       "    <tr>\n",
       "      <th>1532332</th>\n",
       "      <td>2752.0</td>\n",
       "      <td>2019-05-31 23:45:00</td>\n",
       "      <td>2019-06-01 00:15:00</td>\n",
       "      <td>13.25</td>\n",
       "      <td>39.50</td>\n",
       "      <td>POINT (-87.7509342894 41.785998518)</td>\n",
       "      <td>POINT (-87.6321092196 41.9002656868)</td>\n",
       "    </tr>\n",
       "    <tr>\n",
       "      <th>1532333</th>\n",
       "      <td>4182.0</td>\n",
       "      <td>2019-05-31 23:45:00</td>\n",
       "      <td>2019-06-01 00:15:00</td>\n",
       "      <td>0.00</td>\n",
       "      <td>18.75</td>\n",
       "      <td>POINT (-87.6378442095 41.8932163595)</td>\n",
       "      <td>POINT (-87.6188683546 41.8909220259)</td>\n",
       "    </tr>\n",
       "    <tr>\n",
       "      <th>1532334</th>\n",
       "      <td>1995.0</td>\n",
       "      <td>2019-05-31 23:45:00</td>\n",
       "      <td>2019-06-01 00:00:00</td>\n",
       "      <td>1.20</td>\n",
       "      <td>8.25</td>\n",
       "      <td>POINT (-87.6318639497 41.8920421365)</td>\n",
       "      <td>POINT (-87.6499072264 41.9049353016)</td>\n",
       "    </tr>\n",
       "    <tr>\n",
       "      <th>1532335</th>\n",
       "      <td>1805.0</td>\n",
       "      <td>2019-05-31 23:45:00</td>\n",
       "      <td>2019-06-01 00:30:00</td>\n",
       "      <td>0.90</td>\n",
       "      <td>49.25</td>\n",
       "      <td>POINT (-87.9030396611 41.9790708201)</td>\n",
       "      <td>POINT (-87.6517705068 41.9426918444)</td>\n",
       "    </tr>\n",
       "    <tr>\n",
       "      <th>1532336</th>\n",
       "      <td>3429.0</td>\n",
       "      <td>2019-05-31 23:45:00</td>\n",
       "      <td>2019-06-01 00:15:00</td>\n",
       "      <td>12.95</td>\n",
       "      <td>43.25</td>\n",
       "      <td>POINT (-87.7509342894 41.785998518)</td>\n",
       "      <td>POINT (-87.6262149064 41.8925077809)</td>\n",
       "    </tr>\n",
       "  </tbody>\n",
       "</table>\n",
       "</div>"
      ],
      "text/plain": [
       "         taxi_id trip_start_timestamp  trip_end_timestamp  trip_miles  \\\n",
       "1532332   2752.0  2019-05-31 23:45:00 2019-06-01 00:15:00       13.25   \n",
       "1532333   4182.0  2019-05-31 23:45:00 2019-06-01 00:15:00        0.00   \n",
       "1532334   1995.0  2019-05-31 23:45:00 2019-06-01 00:00:00        1.20   \n",
       "1532335   1805.0  2019-05-31 23:45:00 2019-06-01 00:30:00        0.90   \n",
       "1532336   3429.0  2019-05-31 23:45:00 2019-06-01 00:15:00       12.95   \n",
       "\n",
       "         trip_total              pickup_centroid_location  \\\n",
       "1532332       39.50   POINT (-87.7509342894 41.785998518)   \n",
       "1532333       18.75  POINT (-87.6378442095 41.8932163595)   \n",
       "1532334        8.25  POINT (-87.6318639497 41.8920421365)   \n",
       "1532335       49.25  POINT (-87.9030396611 41.9790708201)   \n",
       "1532336       43.25   POINT (-87.7509342894 41.785998518)   \n",
       "\n",
       "                   dropoff_centroid__location  \n",
       "1532332  POINT (-87.6321092196 41.9002656868)  \n",
       "1532333  POINT (-87.6188683546 41.8909220259)  \n",
       "1532334  POINT (-87.6499072264 41.9049353016)  \n",
       "1532335  POINT (-87.6517705068 41.9426918444)  \n",
       "1532336  POINT (-87.6262149064 41.8925077809)  "
      ]
     },
     "execution_count": 241,
     "metadata": {},
     "output_type": "execute_result"
    }
   ],
   "source": [
    "df.tail()"
   ]
  },
  {
   "attachments": {},
   "cell_type": "markdown",
   "metadata": {},
   "source": [
    "## Adding Neighbourhood information/geometries to Reservations data\n",
    "\n",
    "This involves:\n",
    "* Converting the dtypes of the columns `pickup_centroid_location` and `dropoff_centroid__location` from `str` to `geometry` by using the `gpd.GeoSeries.from_wkt` function\n",
    "* Locating the neighbourhood within which a particular POINT is located and assigning that neighbourhood to that location. This is done in two steps, because this involves converting the dataframe from the previous step into a geodataframe, and a geodataframe can only recognise one 'geomtry' column at a time:\n",
    "  * Convert df into a geodataframe with `pickup_centroid_location` as geometry and performing an inner sjoin to assign the `pickup_nbd`\n",
    "  * Convert df into a geodataframe with `dropoff_centroid__location` as geometry and performing an inner sjoin to assign the `dropoff_nbd`"
   ]
  },
  {
   "cell_type": "code",
   "execution_count": 242,
   "metadata": {},
   "outputs": [
    {
     "name": "stderr",
     "output_type": "stream",
     "text": [
      "/Users/abhirupghosh/opt/anaconda3/envs/MM22/lib/python3.10/site-packages/geopandas/geodataframe.py:1487: FutureWarning: Accessing CRS of a GeoDataFrame without a geometry column is deprecated and will be removed in GeoPandas 0.12. Use GeoDataFrame.set_geometry to set the active geometry column.\n",
      "  result.crs = self.crs\n",
      "/Users/abhirupghosh/opt/anaconda3/envs/MM22/lib/python3.10/site-packages/geopandas/geodataframe.py:1487: FutureWarning: Accessing CRS of a GeoDataFrame without a geometry column is deprecated and will be removed in GeoPandas 0.12. Use GeoDataFrame.set_geometry to set the active geometry column.\n",
      "  result.crs = self.crs\n"
     ]
    }
   ],
   "source": [
    "# Converting dtype to 'geometry'\n",
    "\n",
    "df['pickup_centroid_location'] = gpd.GeoSeries.from_wkt(df['pickup_centroid_location'])\n",
    "df['dropoff_centroid__location'] = gpd.GeoSeries.from_wkt(df['dropoff_centroid__location'])\n",
    "\n",
    "# Starting neighbourhood\n",
    "\n",
    "## Converting to geodataframe with geometry column = 'pickup_centroid_location' \n",
    "df = gpd.GeoDataFrame(df, geometry=df['pickup_centroid_location'], crs=\"EPSG:4326\")\n",
    "\n",
    "## Adding neighbourhoods by locating points within them\n",
    "df = gpd.sjoin(df, chi, how='inner')\n",
    "\n",
    "## Dropping columns\n",
    "df.drop(['geometry', 'index_right', 'cartodb_id'], axis=1, inplace=True)\n",
    " \n",
    "## Merging with neighbourhood geojson\n",
    "df = df.merge(chi, on='name')\n",
    "\n",
    "\n",
    "## Renaming columns\n",
    "df.rename(columns={'geometry':'pickup_nbd_geometry',\n",
    "                    'name': 'pickup_nbd_name',\n",
    "                    'cartodb_id': 'pickup_nbd_cartodb_id'}, inplace=True)\n",
    "\n",
    "# Ending neighbourhood\n",
    "\n",
    "## Converting to geodataframe with geometry column = 'dropoff_centroid__location' \n",
    "df = gpd.GeoDataFrame(df, geometry=df['dropoff_centroid__location'], crs=\"EPSG:4326\")\n",
    "\n",
    "## Joining starting neighbourhoods\n",
    "df = gpd.sjoin(df, chi, how='inner')\n",
    "\n",
    "## Dropping columns\n",
    "df.drop(['geometry', 'index_right', 'cartodb_id'], axis=1, inplace=True)\n",
    "\n",
    "## Merging with neighbourhood geojson\n",
    "df = df.merge(chi, on='name')\n",
    "\n",
    "## Renaming columns\n",
    "df.rename(columns={'geometry':'dropoff_nbd_geometry',\n",
    "                    'name': 'dropoff_nbd_name',\n",
    "                    'cartodb_id': 'dropoff_nbd_cartodb_id'}, inplace=True)\n"
   ]
  },
  {
   "attachments": {},
   "cell_type": "markdown",
   "metadata": {},
   "source": [
    "# Final dataset"
   ]
  },
  {
   "cell_type": "code",
   "execution_count": 243,
   "metadata": {},
   "outputs": [
    {
     "name": "stdout",
     "output_type": "stream",
     "text": [
      "<class 'geopandas.geodataframe.GeoDataFrame'>\n",
      "Int64Index: 1378763 entries, 0 to 1378762\n",
      "Data columns (total 13 columns):\n",
      " #   Column                      Non-Null Count    Dtype         \n",
      "---  ------                      --------------    -----         \n",
      " 0   taxi_id                     1378762 non-null  float64       \n",
      " 1   trip_start_timestamp        1378763 non-null  datetime64[ns]\n",
      " 2   trip_end_timestamp          1378763 non-null  datetime64[ns]\n",
      " 3   trip_miles                  1378719 non-null  float64       \n",
      " 4   trip_total                  1378646 non-null  float64       \n",
      " 5   pickup_centroid_location    1378763 non-null  geometry      \n",
      " 6   dropoff_centroid__location  1378763 non-null  geometry      \n",
      " 7   pickup_nbd_name             1378763 non-null  object        \n",
      " 8   pickup_nbd_cartodb_id       1378763 non-null  int64         \n",
      " 9   pickup_nbd_geometry         1378763 non-null  geometry      \n",
      " 10  dropoff_nbd_name            1378763 non-null  object        \n",
      " 11  dropoff_nbd_cartodb_id      1378763 non-null  int64         \n",
      " 12  dropoff_nbd_geometry        1378763 non-null  geometry      \n",
      "dtypes: datetime64[ns](2), float64(3), geometry(4), int64(2), object(2)\n",
      "memory usage: 147.3+ MB\n"
     ]
    },
    {
     "data": {
      "text/html": [
       "<div>\n",
       "<style scoped>\n",
       "    .dataframe tbody tr th:only-of-type {\n",
       "        vertical-align: middle;\n",
       "    }\n",
       "\n",
       "    .dataframe tbody tr th {\n",
       "        vertical-align: top;\n",
       "    }\n",
       "\n",
       "    .dataframe thead th {\n",
       "        text-align: right;\n",
       "    }\n",
       "</style>\n",
       "<table border=\"1\" class=\"dataframe\">\n",
       "  <thead>\n",
       "    <tr style=\"text-align: right;\">\n",
       "      <th></th>\n",
       "      <th>taxi_id</th>\n",
       "      <th>trip_start_timestamp</th>\n",
       "      <th>trip_end_timestamp</th>\n",
       "      <th>trip_miles</th>\n",
       "      <th>trip_total</th>\n",
       "      <th>pickup_centroid_location</th>\n",
       "      <th>dropoff_centroid__location</th>\n",
       "      <th>pickup_nbd_name</th>\n",
       "      <th>pickup_nbd_cartodb_id</th>\n",
       "      <th>pickup_nbd_geometry</th>\n",
       "      <th>dropoff_nbd_name</th>\n",
       "      <th>dropoff_nbd_cartodb_id</th>\n",
       "      <th>dropoff_nbd_geometry</th>\n",
       "    </tr>\n",
       "  </thead>\n",
       "  <tbody>\n",
       "    <tr>\n",
       "      <th>0</th>\n",
       "      <td>2580.0</td>\n",
       "      <td>2019-05-01 00:00:00</td>\n",
       "      <td>2019-05-01 00:15:00</td>\n",
       "      <td>11.60</td>\n",
       "      <td>41.70</td>\n",
       "      <td>POINT (-87.76962 41.79259)</td>\n",
       "      <td>POINT (-87.62519 41.87887)</td>\n",
       "      <td>Garfield Ridge</td>\n",
       "      <td>45</td>\n",
       "      <td>MULTIPOLYGON (((-87.73856 41.81871, -87.73853 ...</td>\n",
       "      <td>Loop</td>\n",
       "      <td>54</td>\n",
       "      <td>MULTIPOLYGON (((-87.61397 41.88841, -87.61325 ...</td>\n",
       "    </tr>\n",
       "    <tr>\n",
       "      <th>1</th>\n",
       "      <td>2639.0</td>\n",
       "      <td>2019-05-01 00:15:00</td>\n",
       "      <td>2019-05-01 00:30:00</td>\n",
       "      <td>0.60</td>\n",
       "      <td>40.20</td>\n",
       "      <td>POINT (-87.75093 41.78600)</td>\n",
       "      <td>POINT (-87.63275 41.88099)</td>\n",
       "      <td>Garfield Ridge</td>\n",
       "      <td>45</td>\n",
       "      <td>MULTIPOLYGON (((-87.73856 41.81871, -87.73853 ...</td>\n",
       "      <td>Loop</td>\n",
       "      <td>54</td>\n",
       "      <td>MULTIPOLYGON (((-87.61397 41.88841, -87.61325 ...</td>\n",
       "    </tr>\n",
       "    <tr>\n",
       "      <th>2</th>\n",
       "      <td>4494.0</td>\n",
       "      <td>2019-05-01 00:15:00</td>\n",
       "      <td>2019-05-01 00:30:00</td>\n",
       "      <td>10.83</td>\n",
       "      <td>42.90</td>\n",
       "      <td>POINT (-87.75093 41.78600)</td>\n",
       "      <td>POINT (-87.63275 41.88099)</td>\n",
       "      <td>Garfield Ridge</td>\n",
       "      <td>45</td>\n",
       "      <td>MULTIPOLYGON (((-87.73856 41.81871, -87.73853 ...</td>\n",
       "      <td>Loop</td>\n",
       "      <td>54</td>\n",
       "      <td>MULTIPOLYGON (((-87.61397 41.88841, -87.61325 ...</td>\n",
       "    </tr>\n",
       "    <tr>\n",
       "      <th>3</th>\n",
       "      <td>1264.0</td>\n",
       "      <td>2019-05-01 00:30:00</td>\n",
       "      <td>2019-05-01 00:45:00</td>\n",
       "      <td>10.80</td>\n",
       "      <td>40.60</td>\n",
       "      <td>POINT (-87.75093 41.78600)</td>\n",
       "      <td>POINT (-87.63275 41.88099)</td>\n",
       "      <td>Garfield Ridge</td>\n",
       "      <td>45</td>\n",
       "      <td>MULTIPOLYGON (((-87.73856 41.81871, -87.73853 ...</td>\n",
       "      <td>Loop</td>\n",
       "      <td>54</td>\n",
       "      <td>MULTIPOLYGON (((-87.61397 41.88841, -87.61325 ...</td>\n",
       "    </tr>\n",
       "    <tr>\n",
       "      <th>4</th>\n",
       "      <td>1980.0</td>\n",
       "      <td>2019-05-01 00:30:00</td>\n",
       "      <td>2019-05-01 01:00:00</td>\n",
       "      <td>12.60</td>\n",
       "      <td>47.75</td>\n",
       "      <td>POINT (-87.75093 41.78600)</td>\n",
       "      <td>POINT (-87.62099 41.88499)</td>\n",
       "      <td>Garfield Ridge</td>\n",
       "      <td>45</td>\n",
       "      <td>MULTIPOLYGON (((-87.73856 41.81871, -87.73853 ...</td>\n",
       "      <td>Loop</td>\n",
       "      <td>54</td>\n",
       "      <td>MULTIPOLYGON (((-87.61397 41.88841, -87.61325 ...</td>\n",
       "    </tr>\n",
       "  </tbody>\n",
       "</table>\n",
       "</div>"
      ],
      "text/plain": [
       "   taxi_id trip_start_timestamp  trip_end_timestamp  trip_miles  trip_total  \\\n",
       "0   2580.0  2019-05-01 00:00:00 2019-05-01 00:15:00       11.60       41.70   \n",
       "1   2639.0  2019-05-01 00:15:00 2019-05-01 00:30:00        0.60       40.20   \n",
       "2   4494.0  2019-05-01 00:15:00 2019-05-01 00:30:00       10.83       42.90   \n",
       "3   1264.0  2019-05-01 00:30:00 2019-05-01 00:45:00       10.80       40.60   \n",
       "4   1980.0  2019-05-01 00:30:00 2019-05-01 01:00:00       12.60       47.75   \n",
       "\n",
       "     pickup_centroid_location  dropoff_centroid__location pickup_nbd_name  \\\n",
       "0  POINT (-87.76962 41.79259)  POINT (-87.62519 41.87887)  Garfield Ridge   \n",
       "1  POINT (-87.75093 41.78600)  POINT (-87.63275 41.88099)  Garfield Ridge   \n",
       "2  POINT (-87.75093 41.78600)  POINT (-87.63275 41.88099)  Garfield Ridge   \n",
       "3  POINT (-87.75093 41.78600)  POINT (-87.63275 41.88099)  Garfield Ridge   \n",
       "4  POINT (-87.75093 41.78600)  POINT (-87.62099 41.88499)  Garfield Ridge   \n",
       "\n",
       "   pickup_nbd_cartodb_id                                pickup_nbd_geometry  \\\n",
       "0                     45  MULTIPOLYGON (((-87.73856 41.81871, -87.73853 ...   \n",
       "1                     45  MULTIPOLYGON (((-87.73856 41.81871, -87.73853 ...   \n",
       "2                     45  MULTIPOLYGON (((-87.73856 41.81871, -87.73853 ...   \n",
       "3                     45  MULTIPOLYGON (((-87.73856 41.81871, -87.73853 ...   \n",
       "4                     45  MULTIPOLYGON (((-87.73856 41.81871, -87.73853 ...   \n",
       "\n",
       "  dropoff_nbd_name  dropoff_nbd_cartodb_id  \\\n",
       "0             Loop                      54   \n",
       "1             Loop                      54   \n",
       "2             Loop                      54   \n",
       "3             Loop                      54   \n",
       "4             Loop                      54   \n",
       "\n",
       "                                dropoff_nbd_geometry  \n",
       "0  MULTIPOLYGON (((-87.61397 41.88841, -87.61325 ...  \n",
       "1  MULTIPOLYGON (((-87.61397 41.88841, -87.61325 ...  \n",
       "2  MULTIPOLYGON (((-87.61397 41.88841, -87.61325 ...  \n",
       "3  MULTIPOLYGON (((-87.61397 41.88841, -87.61325 ...  \n",
       "4  MULTIPOLYGON (((-87.61397 41.88841, -87.61325 ...  "
      ]
     },
     "execution_count": 243,
     "metadata": {},
     "output_type": "execute_result"
    }
   ],
   "source": [
    "df.info()\n",
    "df.head()"
   ]
  },
  {
   "attachments": {},
   "cell_type": "markdown",
   "metadata": {},
   "source": [
    "# Geo-spatial analysis"
   ]
  },
  {
   "attachments": {},
   "cell_type": "markdown",
   "metadata": {},
   "source": [
    "## Neighbourhood: Trip-starts/ends"
   ]
  },
  {
   "cell_type": "code",
   "execution_count": 257,
   "metadata": {},
   "outputs": [],
   "source": [
    "gdf_starts = (df.groupby(['pickup_nbd_name']).agg({'pickup_nbd_geometry': lambda x: x.iloc[0],\n",
    "                                    'taxi_id':pd.Series.nunique,\n",
    "                                    'trip_miles': 'sum',\n",
    "                                    'trip_total': 'sum',\n",
    "                                    'trip_start_timestamp':'count'})\n",
    "                                .rename(columns={'pickup_nbd_geometry': 'geometry',\n",
    "                                                'taxi_id': 'cars',\n",
    "                                                'trip_miles': 'total_dist',\n",
    "                                                'trip_total': 'total_rev',\n",
    "                                                'trip_start_timestamp': 'total_trips'})\n",
    "                                .reset_index()\n",
    "                                .set_geometry(\"geometry\")\n",
    ")\n",
    "\n",
    "gdf_ends = (df.groupby(['dropoff_nbd_name']).agg({'dropoff_nbd_geometry': lambda x: x.iloc[0],\n",
    "                                    'taxi_id':pd.Series.nunique,\n",
    "                                    'trip_miles': 'sum',\n",
    "                                    'trip_total': 'sum',\n",
    "                                    'trip_start_timestamp':'count'})\n",
    "                                .rename(columns={'dropoff_nbd_geometry': 'geometry',\n",
    "                                                'taxi_id': 'cars',\n",
    "                                                'trip_miles': 'total_dist',\n",
    "                                                'trip_total': 'total_rev',\n",
    "                                                'trip_start_timestamp': 'total_trips'})\n",
    "                                .reset_index()\n",
    "                                .set_geometry(\"geometry\")\n",
    ")"
   ]
  },
  {
   "cell_type": "code",
   "execution_count": 263,
   "metadata": {},
   "outputs": [
    {
     "data": {
      "text/plain": [
       "Text(0.5, 1.0, 'Distribution of Trip ends')"
      ]
     },
     "execution_count": 263,
     "metadata": {},
     "output_type": "execute_result"
    },
    {
     "data": {
      "image/png": "[encoded data removed]",
      "text/plain": [
       "<Figure size 1152x432 with 4 Axes>"
      ]
     },
     "metadata": {},
     "output_type": "display_data"
    }
   ],
   "source": [
    "style_kwds = {'edgecolor':'white', \n",
    "                'facecolor':'k',\n",
    "                'linewidth': 1, \n",
    "                'markersize': 1, \n",
    "                'alpha': 1}\n",
    "\n",
    "fig, ax = plt.subplots(ncols=2, figsize=(16,6))\n",
    "gdf_starts.plot(column='total_trips',\n",
    "        ax=ax[0],\n",
    "        cmap='Reds',\n",
    "        legend=True,\n",
    "        **style_kwds)\n",
    "ax[0].axis('off')\n",
    "ax[0].set_title('Distribution of Trip starts') \n",
    "\n",
    "gdf_ends.plot(column='total_trips',\n",
    "        ax=ax[1],\n",
    "        cmap='Reds',\n",
    "        legend=True,\n",
    "        **style_kwds)\n",
    "ax[1].axis('off')  \n",
    "ax[1].set_title('Distribution of Trip ends') "
   ]
  }
 ],
 "metadata": {
  "kernelspec": {
   "display_name": "MM22",
   "language": "python",
   "name": "python3"
  },
  "language_info": {
   "codemirror_mode": {
    "name": "ipython",
    "version": 3
   },
   "file_extension": ".py",
   "mimetype": "text/x-python",
   "name": "python",
   "nbconvert_exporter": "python",
   "pygments_lexer": "ipython3",
   "version": "3.10.5"
  },
  "orig_nbformat": 4,
  "vscode": {
   "interpreter": {
    "hash": "facce6baae5d86b64b0cbb5047c38ef59f3b278395587b0bd56af290cd4b7918"
   }
  }
 },
 "nbformat": 4,
 "nbformat_minor": 2
}
